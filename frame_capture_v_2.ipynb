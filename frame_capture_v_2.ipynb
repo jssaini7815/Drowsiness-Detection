{
  "nbformat": 4,
  "nbformat_minor": 0,
  "metadata": {
    "colab": {
      "name": "frame_capture_v_2.ipynb",
      "provenance": [],
      "authorship_tag": "ABX9TyOVOeS0M+lYRxdX7iopTKNn",
      "include_colab_link": true
    },
    "kernelspec": {
      "name": "python3",
      "display_name": "Python 3"
    },
    "language_info": {
      "name": "python"
    }
  },
  "cells": [
    {
      "cell_type": "markdown",
      "metadata": {
        "id": "view-in-github",
        "colab_type": "text"
      },
      "source": [
        "<a href=\"https://colab.research.google.com/github/jssaini7815/Drowsiness-Detection/blob/main/frame_capture_v_2.ipynb\" target=\"_parent\"><img src=\"https://colab.research.google.com/assets/colab-badge.svg\" alt=\"Open In Colab\"/></a>"
      ]
    },
    {
      "cell_type": "code",
      "metadata": {
        "id": "7MPVKUKKTIEe"
      },
      "source": [
        "#!/usr/bin/env python\n",
        "# coding: utf-8\n",
        "\n",
        "\n",
        "\n",
        "# import the opencv library \n",
        "import cv2\n",
        "#import the OS module\n",
        "import os\n",
        "\n",
        "import pathlib\n",
        "\n",
        "\n",
        "\n",
        "\n",
        "#get current directory\n",
        "current_dir = os.getcwd()\n",
        "print(current_dir)\n",
        "\n",
        "\n",
        "\n",
        "\n",
        "#create a VideoCapture object \n",
        "#argument of VideoCapture can be device index or name of video file\n",
        "#normally 1 camarea is attached to lapto devide\n",
        "#argument 0 or -1 can be passed.\n",
        "#second camera can be used by passing 1 and so on\n",
        "\n",
        "video_capture = cv2.VideoCapture(0,cv2.CAP_DSHOW)\n",
        "#create a directory to save images\n",
        "path = dataset_path()\n",
        "print('directory to save images:',path)\n",
        "\n",
        "\n",
        "#if not video_capture.isOpened():\n",
        "#    print(\"Cannot open camera\")\n",
        "#    exit()\n",
        "i=201\n",
        "while video_capture.isOpened():\n",
        "    # Capture the video frame-by-frame\n",
        "    return_value, frame = video_capture.read()    \n",
        "    # if frame is read correctly ret is True\n",
        "    if not return_value:\n",
        "        print(\"Can't receive  frame Exiting ...\")\n",
        "    cv2.imshow('frame', frame)\n",
        "    filename = \"img_%d.jpg\"%i\n",
        "    cv2.imwrite(filename,frame)\n",
        "    i +=1\n",
        "    if i == 400:\n",
        "        break\n",
        "#     if cv2.waitKey(1) == ord('e'):\n",
        "#         break\n",
        "    \n",
        "# When everything done, release the capture\n",
        "video_capture.release()\n",
        "# Destroy the window \n",
        "cv2.destroyAllWindows()\n",
        "#change directory to previousdirectory\n",
        "os.chdir(current_dir)\n",
        "\n",
        "\n",
        "\n",
        "def dataset_path():\n",
        "    current_dir = os.getcwd()\n",
        "    pathlib.Path(current_dir + '\\DATASET\\JITENDERSAINI').mkdir(parents=True, exist_ok=True)\n",
        "    os.chdir('DATASET\\JITENDERSAINI')\n",
        "    return os.getcwd()\n"
      ],
      "execution_count": null,
      "outputs": []
    }
  ]
}